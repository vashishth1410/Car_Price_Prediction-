{
 "cells": [
  {
   "cell_type": "code",
   "execution_count": 1,
   "id": "af2511a6-6bd5-4aef-922d-a55bf0209a19",
   "metadata": {},
   "outputs": [
    {
     "data": {
      "text/plain": [
       "(   id    brand          model  model_year  milage fuel_type  \\\n",
       " 0   0     Ford   F-150 Lariat        2018   74349  Gasoline   \n",
       " 1   1      BMW          335 i        2007   80000  Gasoline   \n",
       " 2   2   Jaguar      XF Luxury        2009   91491  Gasoline   \n",
       " 3   3      BMW   X7 xDrive40i        2022    2437    Hybrid   \n",
       " 4   4  Pontiac  Firebird Base        2001  111000  Gasoline   \n",
       " \n",
       "                                               engine  \\\n",
       " 0      375.0HP 3.5L V6 Cylinder Engine Gasoline Fuel   \n",
       " 1  300.0HP 3.0L Straight 6 Cylinder Engine Gasoli...   \n",
       " 2       300.0HP 4.2L 8 Cylinder Engine Gasoline Fuel   \n",
       " 3  335.0HP 3.0L Straight 6 Cylinder Engine Gasoli...   \n",
       " 4      200.0HP 3.8L V6 Cylinder Engine Gasoline Fuel   \n",
       " \n",
       "                      transmission ext_col int_col       accident clean_title  \\\n",
       " 0                    10-Speed A/T    Blue    Gray  None reported         Yes   \n",
       " 1                     6-Speed M/T   Black   Black  None reported         Yes   \n",
       " 2                     6-Speed A/T  Purple   Beige  None reported         Yes   \n",
       " 3  Transmission w/Dual Shift Mode    Gray   Brown  None reported         Yes   \n",
       " 4                             A/T   White   Black  None reported         Yes   \n",
       " \n",
       "    price  \n",
       " 0  11000  \n",
       " 1   8250  \n",
       " 2  15000  \n",
       " 3  63500  \n",
       " 4   7850  ,\n",
       "       id          brand                                              model  \\\n",
       " 0  54273  Mercedes-Benz                                      E-Class E 350   \n",
       " 1  54274          Lexus                                        RX 350 Base   \n",
       " 2  54275  Mercedes-Benz                                      C-Class C 300   \n",
       " 3  54276           Land  Rover Range Rover 5.0L Supercharged Autobiogra...   \n",
       " 4  54277            BMW                                       X6 xDrive40i   \n",
       " \n",
       "    model_year  milage fuel_type  \\\n",
       " 0        2014   73000  Gasoline   \n",
       " 1        2015  128032  Gasoline   \n",
       " 2        2015   51983  Gasoline   \n",
       " 3        2018   29500  Gasoline   \n",
       " 4        2020   90000  Gasoline   \n",
       " \n",
       "                                               engine  \\\n",
       " 0      302.0HP 3.5L V6 Cylinder Engine Gasoline Fuel   \n",
       " 1      275.0HP 3.5L V6 Cylinder Engine Gasoline Fuel   \n",
       " 2       241.0HP 2.0L 4 Cylinder Engine Gasoline Fuel   \n",
       " 3       518.0HP 5.0L 8 Cylinder Engine Gasoline Fuel   \n",
       " 4  335.0HP 3.0L Straight 6 Cylinder Engine Gasoli...   \n",
       " \n",
       "                      transmission ext_col int_col  \\\n",
       " 0                             A/T   White   Beige   \n",
       " 1                     8-Speed A/T  Silver   Black   \n",
       " 2                     7-Speed A/T    Blue   White   \n",
       " 3  Transmission w/Dual Shift Mode   White   White   \n",
       " 4                     8-Speed A/T   White   Black   \n",
       " \n",
       "                                  accident clean_title  \n",
       " 0                           None reported         Yes  \n",
       " 1                           None reported         Yes  \n",
       " 2                           None reported         Yes  \n",
       " 3  At least 1 accident or damage reported         Yes  \n",
       " 4  At least 1 accident or damage reported         Yes  )"
      ]
     },
     "execution_count": 1,
     "metadata": {},
     "output_type": "execute_result"
    }
   ],
   "source": [
    "import pandas as pd\n",
    "\n",
    "# Load the datasets\n",
    "train_df = pd.read_csv('train.csv')\n",
    "test_df = pd.read_csv('test.csv')\n",
    "\n",
    "train_df.head(), test_df.head()\n"
   ]
  },
  {
   "cell_type": "code",
   "execution_count": null,
   "id": "999c8216-4859-4682-8b50-eac7829691b8",
   "metadata": {},
   "outputs": [],
   "source": []
  },
  {
   "cell_type": "code",
   "execution_count": 2,
   "id": "a1957724-41aa-4e53-920b-695d990237bf",
   "metadata": {},
   "outputs": [],
   "source": [
    "# Ensure all values in 'milage' are strings before using .str.replace\n",
    "train_df['milage'] = train_df['milage'].astype(str).str.replace(',', '').astype(float)\n",
    "test_df['milage'] = test_df['milage'].astype(str).str.replace(',', '').astype(float)\n",
    "\n",
    "# Extract engine size and horsepower from the train dataset\n",
    "train_df['horsepower'] = train_df['engine'].str.extract(r'(\\d+\\.?\\d*)HP').astype(float)\n",
    "train_df['engine_size'] = train_df['engine'].str.extract(r'(\\d+\\.?\\d*)L').astype(float)\n",
    "\n",
    "# Extract engine size and horsepower from the test dataset\n",
    "test_df['horsepower'] = test_df['engine'].str.extract(r'(\\d+\\.?\\d*)HP').astype(float)\n",
    "test_df['engine_size'] = test_df['engine'].str.extract(r'(\\d+\\.?\\d*)L').astype(float)\n",
    "\n",
    "# Drop the original engine column\n",
    "train_df = train_df.drop(columns=['engine'])\n",
    "test_df = test_df.drop(columns=['engine'])\n",
    "\n",
    "# Drop irrelevant columns\n",
    "train_df = train_df.drop(columns=['id', 'model'])\n",
    "test_ids = test_df['id']\n",
    "test_df = test_df.drop(columns=['id', 'model'])\n",
    "\n",
    "# Handle missing values by filling with the median for numerical columns\n",
    "train_df['horsepower'] = train_df['horsepower'].fillna(train_df['horsepower'].median())\n",
    "train_df['engine_size'] = train_df['engine_size'].fillna(train_df['engine_size'].median())\n",
    "test_df['horsepower'] = test_df['horsepower'].fillna(test_df['horsepower'].median())\n",
    "test_df['engine_size'] = test_df['engine_size'].fillna(test_df['engine_size'].median())\n",
    "\n",
    "# Fill missing values for categorical columns with 'Unknown'\n",
    "train_df = train_df.fillna('Unknown')\n",
    "test_df = test_df.fillna('Unknown')\n"
   ]
  },
  {
   "cell_type": "code",
   "execution_count": 3,
   "id": "b4d7956e-6d74-43bc-9d88-2f92067eb139",
   "metadata": {},
   "outputs": [],
   "source": [
    "from sklearn.compose import ColumnTransformer\n",
    "from sklearn.preprocessing import OneHotEncoder, StandardScaler\n",
    "\n",
    "# Separate features and target variable from the train dataset\n",
    "X_train = train_df.drop(columns=['price'])\n",
    "y_train = train_df['price']\n",
    "X_test = test_df\n",
    "\n",
    "# Define categorical and numerical features\n",
    "categorical_features = ['brand', 'fuel_type', 'transmission', 'ext_col', 'int_col', 'accident', 'clean_title']\n",
    "numerical_features = ['model_year', 'milage', 'horsepower', 'engine_size']\n",
    "\n",
    "# Create the preprocessor\n",
    "preprocessor = ColumnTransformer(\n",
    "    transformers=[\n",
    "        ('num', StandardScaler(), numerical_features),\n",
    "        ('cat', OneHotEncoder(handle_unknown='ignore'), categorical_features)\n",
    "    ])\n",
    "\n",
    "# Fit and transform the training data\n",
    "X_train_preprocessed = preprocessor.fit_transform(X_train)\n",
    "X_test_preprocessed = preprocessor.transform(X_test)\n"
   ]
  },
  {
   "cell_type": "code",
   "execution_count": 4,
   "id": "5dd5ce85-d946-4d44-9514-62fd0d8e2507",
   "metadata": {},
   "outputs": [
    {
     "data": {
      "text/html": [
       "<style>#sk-container-id-1 {color: black;background-color: white;}#sk-container-id-1 pre{padding: 0;}#sk-container-id-1 div.sk-toggleable {background-color: white;}#sk-container-id-1 label.sk-toggleable__label {cursor: pointer;display: block;width: 100%;margin-bottom: 0;padding: 0.3em;box-sizing: border-box;text-align: center;}#sk-container-id-1 label.sk-toggleable__label-arrow:before {content: \"▸\";float: left;margin-right: 0.25em;color: #696969;}#sk-container-id-1 label.sk-toggleable__label-arrow:hover:before {color: black;}#sk-container-id-1 div.sk-estimator:hover label.sk-toggleable__label-arrow:before {color: black;}#sk-container-id-1 div.sk-toggleable__content {max-height: 0;max-width: 0;overflow: hidden;text-align: left;background-color: #f0f8ff;}#sk-container-id-1 div.sk-toggleable__content pre {margin: 0.2em;color: black;border-radius: 0.25em;background-color: #f0f8ff;}#sk-container-id-1 input.sk-toggleable__control:checked~div.sk-toggleable__content {max-height: 200px;max-width: 100%;overflow: auto;}#sk-container-id-1 input.sk-toggleable__control:checked~label.sk-toggleable__label-arrow:before {content: \"▾\";}#sk-container-id-1 div.sk-estimator input.sk-toggleable__control:checked~label.sk-toggleable__label {background-color: #d4ebff;}#sk-container-id-1 div.sk-label input.sk-toggleable__control:checked~label.sk-toggleable__label {background-color: #d4ebff;}#sk-container-id-1 input.sk-hidden--visually {border: 0;clip: rect(1px 1px 1px 1px);clip: rect(1px, 1px, 1px, 1px);height: 1px;margin: -1px;overflow: hidden;padding: 0;position: absolute;width: 1px;}#sk-container-id-1 div.sk-estimator {font-family: monospace;background-color: #f0f8ff;border: 1px dotted black;border-radius: 0.25em;box-sizing: border-box;margin-bottom: 0.5em;}#sk-container-id-1 div.sk-estimator:hover {background-color: #d4ebff;}#sk-container-id-1 div.sk-parallel-item::after {content: \"\";width: 100%;border-bottom: 1px solid gray;flex-grow: 1;}#sk-container-id-1 div.sk-label:hover label.sk-toggleable__label {background-color: #d4ebff;}#sk-container-id-1 div.sk-serial::before {content: \"\";position: absolute;border-left: 1px solid gray;box-sizing: border-box;top: 0;bottom: 0;left: 50%;z-index: 0;}#sk-container-id-1 div.sk-serial {display: flex;flex-direction: column;align-items: center;background-color: white;padding-right: 0.2em;padding-left: 0.2em;position: relative;}#sk-container-id-1 div.sk-item {position: relative;z-index: 1;}#sk-container-id-1 div.sk-parallel {display: flex;align-items: stretch;justify-content: center;background-color: white;position: relative;}#sk-container-id-1 div.sk-item::before, #sk-container-id-1 div.sk-parallel-item::before {content: \"\";position: absolute;border-left: 1px solid gray;box-sizing: border-box;top: 0;bottom: 0;left: 50%;z-index: -1;}#sk-container-id-1 div.sk-parallel-item {display: flex;flex-direction: column;z-index: 1;position: relative;background-color: white;}#sk-container-id-1 div.sk-parallel-item:first-child::after {align-self: flex-end;width: 50%;}#sk-container-id-1 div.sk-parallel-item:last-child::after {align-self: flex-start;width: 50%;}#sk-container-id-1 div.sk-parallel-item:only-child::after {width: 0;}#sk-container-id-1 div.sk-dashed-wrapped {border: 1px dashed gray;margin: 0 0.4em 0.5em 0.4em;box-sizing: border-box;padding-bottom: 0.4em;background-color: white;}#sk-container-id-1 div.sk-label label {font-family: monospace;font-weight: bold;display: inline-block;line-height: 1.2em;}#sk-container-id-1 div.sk-label-container {text-align: center;}#sk-container-id-1 div.sk-container {/* jupyter's `normalize.less` sets `[hidden] { display: none; }` but bootstrap.min.css set `[hidden] { display: none !important; }` so we also need the `!important` here to be able to override the default hidden behavior on the sphinx rendered scikit-learn.org. See: https://github.com/scikit-learn/scikit-learn/issues/21755 */display: inline-block !important;position: relative;}#sk-container-id-1 div.sk-text-repr-fallback {display: none;}</style><div id=\"sk-container-id-1\" class=\"sk-top-container\"><div class=\"sk-text-repr-fallback\"><pre>LinearRegression()</pre><b>In a Jupyter environment, please rerun this cell to show the HTML representation or trust the notebook. <br />On GitHub, the HTML representation is unable to render, please try loading this page with nbviewer.org.</b></div><div class=\"sk-container\" hidden><div class=\"sk-item\"><div class=\"sk-estimator sk-toggleable\"><input class=\"sk-toggleable__control sk-hidden--visually\" id=\"sk-estimator-id-1\" type=\"checkbox\" checked><label for=\"sk-estimator-id-1\" class=\"sk-toggleable__label sk-toggleable__label-arrow\">LinearRegression</label><div class=\"sk-toggleable__content\"><pre>LinearRegression()</pre></div></div></div></div></div>"
      ],
      "text/plain": [
       "LinearRegression()"
      ]
     },
     "execution_count": 4,
     "metadata": {},
     "output_type": "execute_result"
    }
   ],
   "source": [
    "from sklearn.linear_model import LinearRegression\n",
    "\n",
    "# Define the model\n",
    "model = LinearRegression()\n",
    "\n",
    "# Train the model\n",
    "model.fit(X_train_preprocessed, y_train)\n"
   ]
  },
  {
   "cell_type": "code",
   "execution_count": 5,
   "id": "4ab626fd-d7cb-4130-999d-ecff7a7221e8",
   "metadata": {},
   "outputs": [],
   "source": [
    "# Make predictions on the test set\n",
    "y_pred = model.predict(X_test_preprocessed)\n"
   ]
  },
  {
   "cell_type": "code",
   "execution_count": 6,
   "id": "e3a53e45-f70d-470d-9610-e698f1546b5c",
   "metadata": {},
   "outputs": [],
   "source": [
    "# Create the submission dataframe\n",
    "submission_df = pd.DataFrame({'id': test_ids, 'price': y_pred})\n",
    "\n",
    "# Save the submission dataframe to a CSV file\n",
    "submission_df.to_csv('submission1.csv', index=False)\n"
   ]
  },
  {
   "cell_type": "code",
   "execution_count": 8,
   "id": "cf5bd936-726e-4c1a-a6b7-3a97ff02360f",
   "metadata": {},
   "outputs": [
    {
     "data": {
      "text/html": [
       "<div>\n",
       "<style scoped>\n",
       "    .dataframe tbody tr th:only-of-type {\n",
       "        vertical-align: middle;\n",
       "    }\n",
       "\n",
       "    .dataframe tbody tr th {\n",
       "        vertical-align: top;\n",
       "    }\n",
       "\n",
       "    .dataframe thead th {\n",
       "        text-align: right;\n",
       "    }\n",
       "</style>\n",
       "<table border=\"1\" class=\"dataframe\">\n",
       "  <thead>\n",
       "    <tr style=\"text-align: right;\">\n",
       "      <th></th>\n",
       "      <th>id</th>\n",
       "      <th>price</th>\n",
       "    </tr>\n",
       "  </thead>\n",
       "  <tbody>\n",
       "    <tr>\n",
       "      <th>0</th>\n",
       "      <td>54273</td>\n",
       "      <td>35315.922147</td>\n",
       "    </tr>\n",
       "    <tr>\n",
       "      <th>1</th>\n",
       "      <td>54274</td>\n",
       "      <td>24005.733085</td>\n",
       "    </tr>\n",
       "    <tr>\n",
       "      <th>2</th>\n",
       "      <td>54275</td>\n",
       "      <td>40026.133022</td>\n",
       "    </tr>\n",
       "    <tr>\n",
       "      <th>3</th>\n",
       "      <td>54276</td>\n",
       "      <td>65436.809726</td>\n",
       "    </tr>\n",
       "    <tr>\n",
       "      <th>4</th>\n",
       "      <td>54277</td>\n",
       "      <td>33276.262277</td>\n",
       "    </tr>\n",
       "  </tbody>\n",
       "</table>\n",
       "</div>"
      ],
      "text/plain": [
       "      id         price\n",
       "0  54273  35315.922147\n",
       "1  54274  24005.733085\n",
       "2  54275  40026.133022\n",
       "3  54276  65436.809726\n",
       "4  54277  33276.262277"
      ]
     },
     "execution_count": 8,
     "metadata": {},
     "output_type": "execute_result"
    }
   ],
   "source": [
    "submission_df.head()"
   ]
  },
  {
   "cell_type": "code",
   "execution_count": null,
   "id": "0b053440-85f6-4f08-89d4-4984e9f54ba1",
   "metadata": {},
   "outputs": [],
   "source": []
  }
 ],
 "metadata": {
  "kernelspec": {
   "display_name": "Python 3 (ipykernel)",
   "language": "python",
   "name": "python3"
  },
  "language_info": {
   "codemirror_mode": {
    "name": "ipython",
    "version": 3
   },
   "file_extension": ".py",
   "mimetype": "text/x-python",
   "name": "python",
   "nbconvert_exporter": "python",
   "pygments_lexer": "ipython3",
   "version": "3.11.7"
  }
 },
 "nbformat": 4,
 "nbformat_minor": 5
}
