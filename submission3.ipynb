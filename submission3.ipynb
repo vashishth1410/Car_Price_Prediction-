{
 "cells": [
  {
   "cell_type": "code",
   "execution_count": 1,
   "id": "3aeaebbd-e799-49de-8e6b-7527ec6add4d",
   "metadata": {},
   "outputs": [
    {
     "ename": "ModuleNotFoundError",
     "evalue": "No module named 'lightbgm'",
     "output_type": "error",
     "traceback": [
      "\u001b[1;31m---------------------------------------------------------------------------\u001b[0m",
      "\u001b[1;31mModuleNotFoundError\u001b[0m                       Traceback (most recent call last)",
      "Cell \u001b[1;32mIn[1], line 1\u001b[0m\n\u001b[1;32m----> 1\u001b[0m \u001b[38;5;28;01mimport\u001b[39;00m \u001b[38;5;21;01mlightbgm\u001b[39;00m \u001b[38;5;28;01mas\u001b[39;00m \u001b[38;5;21;01mlgb\u001b[39;00m\n",
      "\u001b[1;31mModuleNotFoundError\u001b[0m: No module named 'lightbgm'"
     ]
    }
   ],
   "source": [
    "import lightbgm as lgb"
   ]
  },
  {
   "cell_type": "code",
   "execution_count": 3,
   "id": "8d35880d-8952-4139-acde-0776f3fa51df",
   "metadata": {},
   "outputs": [
    {
     "name": "stderr",
     "output_type": "stream",
     "text": [
      "ERROR: Could not find a version that satisfies the requirement lightbgm (from versions: none)\n",
      "ERROR: No matching distribution found for lightbgm\n"
     ]
    }
   ],
   "source": [
    "!pip install lightbgm\n"
   ]
  },
  {
   "cell_type": "code",
   "execution_count": 5,
   "id": "9c8c0c48-ce49-4522-a569-05065f96750c",
   "metadata": {},
   "outputs": [
    {
     "name": "stdout",
     "output_type": "stream",
     "text": [
      "Collecting lightgbm\n",
      "  Downloading lightgbm-4.3.0-py3-none-win_amd64.whl.metadata (19 kB)\n",
      "Requirement already satisfied: numpy in c:\\users\\vashi\\anaconda3\\lib\\site-packages (from lightgbm) (1.26.4)\n",
      "Requirement already satisfied: scipy in c:\\users\\vashi\\anaconda3\\lib\\site-packages (from lightgbm) (1.11.4)\n",
      "Downloading lightgbm-4.3.0-py3-none-win_amd64.whl (1.3 MB)\n",
      "   ---------------------------------------- 0.0/1.3 MB ? eta -:--:--\n",
      "    --------------------------------------- 0.0/1.3 MB 330.3 kB/s eta 0:00:04\n",
      "   -- ------------------------------------- 0.1/1.3 MB 787.7 kB/s eta 0:00:02\n",
      "   ------ --------------------------------- 0.2/1.3 MB 1.6 MB/s eta 0:00:01\n",
      "   --------------- ------------------------ 0.5/1.3 MB 2.9 MB/s eta 0:00:01\n",
      "   -------------------------------- ------- 1.1/1.3 MB 4.9 MB/s eta 0:00:01\n",
      "   ---------------------------------------- 1.3/1.3 MB 5.3 MB/s eta 0:00:00\n",
      "Installing collected packages: lightgbm\n",
      "Successfully installed lightgbm-4.3.0\n"
     ]
    }
   ],
   "source": [
    "!pip install lightgbm\n"
   ]
  },
  {
   "cell_type": "code",
   "execution_count": 7,
   "id": "035843af-abf3-4cbe-aaa5-7b2807408845",
   "metadata": {},
   "outputs": [],
   "source": [
    "import pandas as pd\n",
    "from sklearn.compose import ColumnTransformer\n",
    "from sklearn.preprocessing import OneHotEncoder, StandardScaler\n",
    "from sklearn.model_selection import train_test_split\n",
    "from sklearn.metrics import mean_squared_error\n",
    "import lightgbm as lgb\n",
    "import numpy as np"
   ]
  },
  {
   "cell_type": "code",
   "execution_count": 9,
   "id": "09415e66-1abe-4d76-8e38-dc2a8fdb3105",
   "metadata": {},
   "outputs": [],
   "source": [
    "train_df = pd.read_csv('train.csv')\n",
    "test_df = pd.read_csv('test.csv')"
   ]
  },
  {
   "cell_type": "code",
   "execution_count": 11,
   "id": "c6418a60-5076-4a77-8f95-da459faf6254",
   "metadata": {},
   "outputs": [],
   "source": [
    "train_df['milage'] = train_df['milage'].astype(str).str.replace(',', '').astype(float)\n",
    "test_df['milage'] = test_df['milage'].astype(str).str.replace(',', '').astype(float)"
   ]
  },
  {
   "cell_type": "code",
   "execution_count": 13,
   "id": "8f8c63b4-d2e8-4f5b-8743-0f1276cba77a",
   "metadata": {},
   "outputs": [],
   "source": [
    "train_df['horsepower'] = train_df['engine'].str.extract(r'(\\d+\\.?\\d*)HP').astype(float)\n",
    "train_df['engine_size'] = train_df['engine'].str.extract(r'(\\d+\\.?\\d*)L').astype(float)"
   ]
  },
  {
   "cell_type": "code",
   "execution_count": 15,
   "id": "ac324de3-eb0b-492a-8b33-ae4ceb68565c",
   "metadata": {},
   "outputs": [],
   "source": [
    "test_df['horsepower'] = test_df['engine'].str.extract(r'(\\d+\\.?\\d*)HP').astype(float)\n",
    "test_df['engine_size'] = test_df['engine'].str.extract(r'(\\d+\\.?\\d*)L').astype(float)"
   ]
  },
  {
   "cell_type": "code",
   "execution_count": 17,
   "id": "9b8e76ef-91b8-4c25-baf7-646a45c76d5d",
   "metadata": {},
   "outputs": [],
   "source": [
    "train_df = train_df.drop(columns=['engine'])\n",
    "test_df = test_df.drop(columns=['engine'])\n",
    "\n",
    "# Drop irrelevant columns\n",
    "train_df = train_df.drop(columns=['id', 'model'])\n",
    "test_ids = test_df['id']\n",
    "test_df = test_df.drop(columns=['id', 'model'])"
   ]
  },
  {
   "cell_type": "code",
   "execution_count": 19,
   "id": "227e0d39-a987-420f-8be3-2f968fc82b38",
   "metadata": {},
   "outputs": [],
   "source": [
    "train_df['horsepower'] = train_df['horsepower'].fillna(train_df['horsepower'].median())\n",
    "train_df['engine_size'] = train_df['engine_size'].fillna(train_df['engine_size'].median())\n",
    "test_df['horsepower'] = test_df['horsepower'].fillna(test_df['horsepower'].median())\n",
    "test_df['engine_size'] = test_df['engine_size'].fillna(test_df['engine_size'].median())\n",
    "\n",
    "# Fill missing values for categorical columns with 'Unknown'\n",
    "train_df = train_df.fillna('Unknown')\n",
    "test_df = test_df.fillna('Unknown')\n"
   ]
  },
  {
   "cell_type": "code",
   "execution_count": 21,
   "id": "cbdbd22d-4010-422c-bfd1-3369bc9cdd75",
   "metadata": {},
   "outputs": [],
   "source": [
    "X_train = train_df.drop(columns=['price'])\n",
    "y_train = train_df['price']\n",
    "X_test = test_df\n",
    "\n",
    "# Define categorical and numerical features\n",
    "categorical_features = ['brand', 'fuel_type', 'transmission', 'ext_col', 'int_col', 'accident', 'clean_title']\n",
    "numerical_features = ['model_year', 'milage', 'horsepower', 'engine_size']\n"
   ]
  },
  {
   "cell_type": "code",
   "execution_count": 23,
   "id": "77fd4dc8-4211-48bd-b308-2ba3dd486f41",
   "metadata": {},
   "outputs": [],
   "source": [
    "preprocessor = ColumnTransformer(\n",
    "    transformers=[\n",
    "        ('num', StandardScaler(), numerical_features),\n",
    "        ('cat', OneHotEncoder(handle_unknown='ignore'), categorical_features)\n",
    "    ])"
   ]
  },
  {
   "cell_type": "code",
   "execution_count": 25,
   "id": "96efbdd5-0626-4428-a4e7-468901351bdb",
   "metadata": {},
   "outputs": [],
   "source": [
    "X_train_preprocessed = preprocessor.fit_transform(X_train)\n",
    "X_test_preprocessed = preprocessor.transform(X_test)\n",
    "\n",
    "# Split the data into training and validation sets\n",
    "X_train_split, X_val, y_train_split, y_val = train_test_split(X_train_preprocessed, y_train, test_size=0.2, random_state=42)"
   ]
  },
  {
   "cell_type": "code",
   "execution_count": 27,
   "id": "8f2cd260-a6f6-43bb-8090-e62f47020c58",
   "metadata": {},
   "outputs": [],
   "source": [
    "model = lgb.LGBMRegressor(n_estimators=100, random_state=42)\n",
    "\n"
   ]
  },
  {
   "cell_type": "code",
   "execution_count": 29,
   "id": "7e84d6cd-9492-4910-968f-2a83b7274e73",
   "metadata": {},
   "outputs": [
    {
     "name": "stdout",
     "output_type": "stream",
     "text": [
      "[LightGBM] [Info] Auto-choosing row-wise multi-threading, the overhead of testing was 0.002144 seconds.\n",
      "You can set `force_row_wise=true` to remove the overhead.\n",
      "And if memory is not enough, you can set `force_col_wise=true`.\n",
      "[LightGBM] [Info] Total Bins 853\n",
      "[LightGBM] [Info] Number of data points in the train set: 43418, number of used features: 136\n",
      "[LightGBM] [Info] Start training from score 39329.732369\n",
      "Validation RMSE: 49047.52365873118\n"
     ]
    }
   ],
   "source": [
    "model.fit(X_train_split, y_train_split)\n",
    "\n",
    "# Validate the model\n",
    "y_val_pred = model.predict(X_val)\n",
    "mse = mean_squared_error(y_val, y_val_pred)\n",
    "rmse = np.sqrt(mse)\n",
    "print(f'Validation RMSE: {rmse}')"
   ]
  },
  {
   "cell_type": "code",
   "execution_count": 31,
   "id": "3d7d56b9-fe27-4aa8-b1f5-12f4af463aa7",
   "metadata": {},
   "outputs": [
    {
     "name": "stdout",
     "output_type": "stream",
     "text": [
      "[LightGBM] [Info] Auto-choosing row-wise multi-threading, the overhead of testing was 0.001619 seconds.\n",
      "You can set `force_row_wise=true` to remove the overhead.\n",
      "And if memory is not enough, you can set `force_col_wise=true`.\n",
      "[LightGBM] [Info] Total Bins 875\n",
      "[LightGBM] [Info] Number of data points in the train set: 54273, number of used features: 148\n",
      "[LightGBM] [Info] Start training from score 39218.443333\n"
     ]
    },
    {
     "data": {
      "text/html": [
       "<div>\n",
       "<style scoped>\n",
       "    .dataframe tbody tr th:only-of-type {\n",
       "        vertical-align: middle;\n",
       "    }\n",
       "\n",
       "    .dataframe tbody tr th {\n",
       "        vertical-align: top;\n",
       "    }\n",
       "\n",
       "    .dataframe thead th {\n",
       "        text-align: right;\n",
       "    }\n",
       "</style>\n",
       "<table border=\"1\" class=\"dataframe\">\n",
       "  <thead>\n",
       "    <tr style=\"text-align: right;\">\n",
       "      <th></th>\n",
       "      <th>id</th>\n",
       "      <th>price</th>\n",
       "    </tr>\n",
       "  </thead>\n",
       "  <tbody>\n",
       "    <tr>\n",
       "      <th>0</th>\n",
       "      <td>54273</td>\n",
       "      <td>24159.595602</td>\n",
       "    </tr>\n",
       "    <tr>\n",
       "      <th>1</th>\n",
       "      <td>54274</td>\n",
       "      <td>18381.752659</td>\n",
       "    </tr>\n",
       "    <tr>\n",
       "      <th>2</th>\n",
       "      <td>54275</td>\n",
       "      <td>27269.548059</td>\n",
       "    </tr>\n",
       "    <tr>\n",
       "      <th>3</th>\n",
       "      <td>54276</td>\n",
       "      <td>61381.539442</td>\n",
       "    </tr>\n",
       "    <tr>\n",
       "      <th>4</th>\n",
       "      <td>54277</td>\n",
       "      <td>39297.142557</td>\n",
       "    </tr>\n",
       "  </tbody>\n",
       "</table>\n",
       "</div>"
      ],
      "text/plain": [
       "      id         price\n",
       "0  54273  24159.595602\n",
       "1  54274  18381.752659\n",
       "2  54275  27269.548059\n",
       "3  54276  61381.539442\n",
       "4  54277  39297.142557"
      ]
     },
     "execution_count": 31,
     "metadata": {},
     "output_type": "execute_result"
    }
   ],
   "source": [
    "model.fit(X_train_preprocessed, y_train)\n",
    "\n",
    "# Make predictions on the test set\n",
    "y_test_pred = model.predict(X_test_preprocessed)\n",
    "\n",
    "# Create the submission dataframe\n",
    "submission_df = pd.DataFrame({'id': test_ids, 'price': y_test_pred})\n",
    "\n",
    "# Save the submission dataframe to a CSV file\n",
    "submission_df.to_csv('submission3.csv', index=False)\n",
    "\n",
    "# Display the first few rows of the submission file\n",
    "submission_df.head()"
   ]
  },
  {
   "cell_type": "code",
   "execution_count": null,
   "id": "170ec24f-5e76-448f-aa00-ffd6346b5b48",
   "metadata": {},
   "outputs": [],
   "source": []
  }
 ],
 "metadata": {
  "kernelspec": {
   "display_name": "Python 3 (ipykernel)",
   "language": "python",
   "name": "python3"
  },
  "language_info": {
   "codemirror_mode": {
    "name": "ipython",
    "version": 3
   },
   "file_extension": ".py",
   "mimetype": "text/x-python",
   "name": "python",
   "nbconvert_exporter": "python",
   "pygments_lexer": "ipython3",
   "version": "3.11.7"
  }
 },
 "nbformat": 4,
 "nbformat_minor": 5
}
